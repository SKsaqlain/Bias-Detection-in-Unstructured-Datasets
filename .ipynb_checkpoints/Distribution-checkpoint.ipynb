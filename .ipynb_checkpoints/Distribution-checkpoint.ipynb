{
 "cells": [
  {
   "cell_type": "code",
   "execution_count": 19,
   "metadata": {},
   "outputs": [
    {
     "name": "stdout",
     "output_type": "stream",
     "text": [
      "['elected_reps_annotated.txt', 'location_distribution.txt', 'location_distribution_top.txt', 'nationality_distributions.txt', 'profession.txt', 'religion.txt']\n"
     ]
    }
   ],
   "source": [
    "import os\n",
    "files=os.listdir('.\\data')\n",
    "print(files)"
   ]
  },
  {
   "cell_type": "code",
   "execution_count": 10,
   "metadata": {},
   "outputs": [
    {
     "name": "stdout",
     "output_type": "stream",
     "text": [
      "[[636, 'U.S.'], [525, 'United States'], [304, 'California'], [240, 'Europe'], [232, 'Florida']]\n"
     ]
    }
   ],
   "source": [
    "import numpy as np\n",
    "import pandas as pd\n",
    "import re\n",
    "from bokeh.plotting import figure\n",
    "from bokeh.io import show,output_file\n",
    "from numpy import histogram,linspace\n",
    "from bokeh.models import ColumnDataSource\n",
    "from bokeh.models.tools import HoverTool\n",
    "\n",
    "def plot_hist(filename,bins):\n",
    "    #processing data and converting it into dataFrame\n",
    "    #assuming that the file is present in data folder\n",
    "    loc_dist=open(\"data//\"+filename,'r')\n",
    "    data=loc_dist.readlines()\n",
    "    #print(data)\n",
    "    \n",
    "    data_processed=[]\n",
    "    for ele in data:\n",
    "        #spliting data on white space and removing leading and ending whitespace and newline.\n",
    "        x=re.split('\\s',ele.strip(\" \\n\"))\n",
    "        #typecasting string number  to interger.\n",
    "        x[0]=int(x[0])\n",
    "        #preprocess\n",
    "        #joining words \n",
    "        if(len(x)>2):    \n",
    "            temp=x.pop(-1)\n",
    "            x[1]=x[1]+\" \"+temp\n",
    "\n",
    "        data_processed.append(x)\n",
    "    #taking only the frequency and the label.    \n",
    "    data_processed=[ele[:2] for ele  in data_processed]\n",
    "    print(data_processed[:5])\n",
    "    df=pd.DataFrame(data_processed,columns=['frequency',filename[:-4]])\n",
    "    df.head()\n",
    "    \n",
    "    #getting the intervals and the data that falls within that interval.\n",
    "    arr_hist,edges=np.histogram(df.frequency,bins=bins)\n",
    "    #print(arr_hist)\n",
    "    #print(edges,len(edges))\n",
    "    locations=['']*len(arr_hist)\n",
    "    for i in range(len(data_processed)):\n",
    "        for j in range(len(edges)-1):\n",
    "            if(data_processed[i][0]>=edges[j] and data_processed[i][0]<=edges[j+1]):\n",
    "                if(len(locations[j])==0):\n",
    "                    locations[j]=data_processed[i][1]\n",
    "                else:\n",
    "                    locations[j]=locations[j]+\",\"+data_processed[i][1]\n",
    "                break\n",
    "    #print(len(locations))\n",
    "    #print(len(arr_hist))\n",
    "    \n",
    "    #plotting the histogram\n",
    "    new_data=pd.DataFrame({'frequency':arr_hist,\n",
    "                       filename[:-4]:locations,\n",
    "                        'left':edges[:-1],\n",
    "                          'right':edges[1:]})\n",
    "    src = ColumnDataSource(new_data)\n",
    "    src.data.keys()\n",
    "    p=figure(plot_height=600,plot_width=600,title=filename[:-4]+' Distribution',x_axis_label='frequecy interval',y_axis_label='count')\n",
    "    p.quad(source = src, bottom=0, top='frequency', \n",
    "           left='left', right='right', \n",
    "           fill_color='red', line_color='black')\n",
    "\n",
    "    hover=HoverTool(tooltips=[(filename[:-4],'@'+filename[:-4]),('count','@frequency'),('left','@left'),('right','@right')])\n",
    "    #p=style(p)\n",
    "    p.add_tools(hover)\n",
    "    show(p)\n",
    "plot_hist('location_distribution_top.txt',bins=200)"
   ]
  },
  {
   "cell_type": "code",
   "execution_count": null,
   "metadata": {},
   "outputs": [],
   "source": []
  }
 ],
 "metadata": {
  "kernelspec": {
   "display_name": "Python 3",
   "language": "python",
   "name": "python3"
  },
  "language_info": {
   "codemirror_mode": {
    "name": "ipython",
    "version": 3
   },
   "file_extension": ".py",
   "mimetype": "text/x-python",
   "name": "python",
   "nbconvert_exporter": "python",
   "pygments_lexer": "ipython3",
   "version": "3.6.5"
  }
 },
 "nbformat": 4,
 "nbformat_minor": 2
}
