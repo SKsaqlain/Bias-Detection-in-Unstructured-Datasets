{
 "cells": [
  {
   "cell_type": "code",
   "execution_count": 3,
   "metadata": {},
   "outputs": [],
   "source": [
    "import pandas as pd\n",
    "import numpy as np\n",
    "import matplotlib.pyplot as plt\n",
    "import os\n",
    "import sys\n",
    "import json"
   ]
  },
  {
   "cell_type": "code",
   "execution_count": 4,
   "metadata": {},
   "outputs": [
    {
     "data": {
      "text/plain": [
       "['.git',\n",
       " '.gitattributes',\n",
       " '.ipynb_checkpoints',\n",
       " 'data',\n",
       " 'Distribution-plot-on-protected-variables.ipynb',\n",
       " 'Distribution.ipynb',\n",
       " 'Distribution2.ipynb',\n",
       " 'PipeLine.ipynb',\n",
       " 'processed_data',\n",
       " 'README.md',\n",
       " 'requirements.txt']"
      ]
     },
     "execution_count": 4,
     "metadata": {},
     "output_type": "execute_result"
    }
   ],
   "source": [
    "os.listdir(\".\")"
   ]
  },
  {
   "cell_type": "code",
   "execution_count": 5,
   "metadata": {},
   "outputs": [],
   "source": [
    "def extractRawRedactedData(entityType='/location/address'):\n",
    "    f=open(\"./data/raw/sample_submission_file1.json\",'r')\n",
    "    data=list(json.load(f).values())[0]\n",
    "    print(entityType,data[0])\n",
    "    redactedData=list(filter(lambda x:x['types']==entityType,data))\n",
    "    processedData=open(\"./processed_data/processed_file1.json\",\"w\")\n",
    "    json.dump(redactedData,processedData)\n",
    "    return redactedData\n",
    "    "
   ]
  },
  {
   "cell_type": "code",
   "execution_count": 6,
   "metadata": {},
   "outputs": [
    {
     "name": "stdout",
     "output_type": "stream",
     "text": [
      "/location/address {'text': 'Let me explain to you why I believe this : For years, SunTrust advertised and promoted in big letters their entity_1 debit card.', 'entity': 'entity_1', 'types': '/interest/product'}\n"
     ]
    }
   ],
   "source": [
    "processedData=extractRawRedactedData()"
   ]
  },
  {
   "cell_type": "code",
   "execution_count": 7,
   "metadata": {},
   "outputs": [],
   "source": [
    "def loadImputationalData():\n",
    "    f=open(\"./data/raw/town_of_newton-addresses-city.geojson\",'r')\n",
    "    locationData=f.readlines()\n",
    "    address=list()\n",
    "    for ele in locationData:\n",
    "        address.append(json.loads(ele.strip(\"\\n\"))['properties'])\n",
    "    return pd.DataFrame(address)\n",
    "\n",
    "    "
   ]
  },
  {
   "cell_type": "code",
   "execution_count": 8,
   "metadata": {},
   "outputs": [],
   "source": [
    "addressDf=loadImputationalData()"
   ]
  },
  {
   "cell_type": "code",
   "execution_count": 9,
   "metadata": {},
   "outputs": [
    {
     "data": {
      "text/html": [
       "<div>\n",
       "<style scoped>\n",
       "    .dataframe tbody tr th:only-of-type {\n",
       "        vertical-align: middle;\n",
       "    }\n",
       "\n",
       "    .dataframe tbody tr th {\n",
       "        vertical-align: top;\n",
       "    }\n",
       "\n",
       "    .dataframe thead th {\n",
       "        text-align: right;\n",
       "    }\n",
       "</style>\n",
       "<table border=\"1\" class=\"dataframe\">\n",
       "  <thead>\n",
       "    <tr style=\"text-align: right;\">\n",
       "      <th></th>\n",
       "      <th>hash</th>\n",
       "      <th>number</th>\n",
       "      <th>street</th>\n",
       "      <th>unit</th>\n",
       "      <th>city</th>\n",
       "      <th>district</th>\n",
       "      <th>region</th>\n",
       "      <th>postcode</th>\n",
       "      <th>id</th>\n",
       "    </tr>\n",
       "  </thead>\n",
       "  <tbody>\n",
       "    <tr>\n",
       "      <th>0</th>\n",
       "      <td>5ed816d8cf1816d8</td>\n",
       "      <td>427</td>\n",
       "      <td>AUBURN ST</td>\n",
       "      <td></td>\n",
       "      <td>AUBURNDALE</td>\n",
       "      <td></td>\n",
       "      <td></td>\n",
       "      <td>02466</td>\n",
       "      <td>106766427B</td>\n",
       "    </tr>\n",
       "    <tr>\n",
       "      <th>1</th>\n",
       "      <td>1fe5fdf65aa2d9d6</td>\n",
       "      <td>137</td>\n",
       "      <td>HAGEN RD</td>\n",
       "      <td></td>\n",
       "      <td>NEWTON CENTRE</td>\n",
       "      <td></td>\n",
       "      <td></td>\n",
       "      <td>02459</td>\n",
       "      <td>157159137</td>\n",
       "    </tr>\n",
       "    <tr>\n",
       "      <th>2</th>\n",
       "      <td>c6b924c8eeb2f784</td>\n",
       "      <td>82</td>\n",
       "      <td>CHURCH ST</td>\n",
       "      <td></td>\n",
       "      <td>NEWTON</td>\n",
       "      <td></td>\n",
       "      <td></td>\n",
       "      <td>02458</td>\n",
       "      <td>12695882</td>\n",
       "    </tr>\n",
       "    <tr>\n",
       "      <th>3</th>\n",
       "      <td>57c14fcbae7117d0</td>\n",
       "      <td>639</td>\n",
       "      <td>DEDHAM ST</td>\n",
       "      <td></td>\n",
       "      <td>NEWTON CENTRE</td>\n",
       "      <td></td>\n",
       "      <td></td>\n",
       "      <td>02459</td>\n",
       "      <td>137359639</td>\n",
       "    </tr>\n",
       "    <tr>\n",
       "      <th>4</th>\n",
       "      <td>5fe7bbbab5119d38</td>\n",
       "      <td>119</td>\n",
       "      <td>HIGHLAND AVE</td>\n",
       "      <td></td>\n",
       "      <td>NEWTONVILLE</td>\n",
       "      <td></td>\n",
       "      <td></td>\n",
       "      <td>02460</td>\n",
       "      <td>162560119</td>\n",
       "    </tr>\n",
       "  </tbody>\n",
       "</table>\n",
       "</div>"
      ],
      "text/plain": [
       "               hash number        street unit           city district region  \\\n",
       "0  5ed816d8cf1816d8    427     AUBURN ST          AUBURNDALE                   \n",
       "1  1fe5fdf65aa2d9d6    137      HAGEN RD       NEWTON CENTRE                   \n",
       "2  c6b924c8eeb2f784     82     CHURCH ST              NEWTON                   \n",
       "3  57c14fcbae7117d0    639     DEDHAM ST       NEWTON CENTRE                   \n",
       "4  5fe7bbbab5119d38    119  HIGHLAND AVE         NEWTONVILLE                   \n",
       "\n",
       "  postcode          id  \n",
       "0    02466  106766427B  \n",
       "1    02459   157159137  \n",
       "2    02458    12695882  \n",
       "3    02459   137359639  \n",
       "4    02460   162560119  "
      ]
     },
     "execution_count": 9,
     "metadata": {},
     "output_type": "execute_result"
    }
   ],
   "source": [
    "addressDf.head()"
   ]
  },
  {
   "cell_type": "code",
   "execution_count": 16,
   "metadata": {},
   "outputs": [
    {
     "name": "stdout",
     "output_type": "stream",
     "text": [
      "40395\n",
      "40336\n",
      "['234359140U1', '172258119', '1095599', '16246445', '1309591160', '17225881', '216158150', '172258126', '172258124', '17225883', '17225897', '172258120', '174660128', '234359140', '172258112', '17225895', '172258101', '24416888', '172258103', '172258118', '137359755', '117659193', '172258117', '172258128', '172258116', '17225885', '172258105', '13736110', '109659740', '115359380', '172258113', '172258114', '172258125', '172258122', '15365921', '20235821', '172258108', '172258115', '17225887', '235458400', '13375990', '1153673', '13096760', '172258121', '172258107', '172258109', '172258106', '2350661960', '172258110', '18446688', '172258123', '172258111', '17785990', '172258127', '2350622344', '17225891', '17225893', '17225889', '17225899']\n"
     ]
    }
   ],
   "source": [
    "ids=addressDf['id'].tolist()\n",
    "print(len(ids))\n",
    "uniqueIds=list(set(ids))\n",
    "print(len(uniqueIds))\n",
    "repeatedIds=list(filter(lambda x:ids.count(x)>1,uniqueIds))\n",
    "print(repeatedIds)"
   ]
  },
  {
   "cell_type": "code",
   "execution_count": 17,
   "metadata": {},
   "outputs": [
    {
     "data": {
      "text/html": [
       "<div>\n",
       "<style scoped>\n",
       "    .dataframe tbody tr th:only-of-type {\n",
       "        vertical-align: middle;\n",
       "    }\n",
       "\n",
       "    .dataframe tbody tr th {\n",
       "        vertical-align: top;\n",
       "    }\n",
       "\n",
       "    .dataframe thead th {\n",
       "        text-align: right;\n",
       "    }\n",
       "</style>\n",
       "<table border=\"1\" class=\"dataframe\">\n",
       "  <thead>\n",
       "    <tr style=\"text-align: right;\">\n",
       "      <th></th>\n",
       "      <th>hash</th>\n",
       "      <th>number</th>\n",
       "      <th>street</th>\n",
       "      <th>unit</th>\n",
       "      <th>city</th>\n",
       "      <th>district</th>\n",
       "      <th>region</th>\n",
       "      <th>postcode</th>\n",
       "      <th>id</th>\n",
       "    </tr>\n",
       "  </thead>\n",
       "  <tbody>\n",
       "    <tr>\n",
       "      <th>9433</th>\n",
       "      <td>ab41dbec05cc86c4</td>\n",
       "      <td>127</td>\n",
       "      <td>KENNEDY CIR</td>\n",
       "      <td></td>\n",
       "      <td>NEWTON</td>\n",
       "      <td></td>\n",
       "      <td></td>\n",
       "      <td>02458</td>\n",
       "      <td>172258127</td>\n",
       "    </tr>\n",
       "    <tr>\n",
       "      <th>22245</th>\n",
       "      <td>11a38178749c7532</td>\n",
       "      <td>127</td>\n",
       "      <td>JOHN F KENNEDY CIR</td>\n",
       "      <td></td>\n",
       "      <td>NEWTON</td>\n",
       "      <td></td>\n",
       "      <td></td>\n",
       "      <td>02458</td>\n",
       "      <td>172258127</td>\n",
       "    </tr>\n",
       "  </tbody>\n",
       "</table>\n",
       "</div>"
      ],
      "text/plain": [
       "                   hash number              street unit    city district  \\\n",
       "9433   ab41dbec05cc86c4    127         KENNEDY CIR       NEWTON            \n",
       "22245  11a38178749c7532    127  JOHN F KENNEDY CIR       NEWTON            \n",
       "\n",
       "      region postcode         id  \n",
       "9433            02458  172258127  \n",
       "22245           02458  172258127  "
      ]
     },
     "execution_count": 17,
     "metadata": {},
     "output_type": "execute_result"
    }
   ],
   "source": [
    "addressDf[addressDf['id']=='172258127']"
   ]
  },
  {
   "cell_type": "code",
   "execution_count": 13,
   "metadata": {},
   "outputs": [
    {
     "ename": "NameError",
     "evalue": "name 'uniqueHashs' is not defined",
     "output_type": "error",
     "traceback": [
      "\u001b[1;31m---------------------------------------------------------------------------\u001b[0m",
      "\u001b[1;31mNameError\u001b[0m                                 Traceback (most recent call last)",
      "\u001b[1;32m<ipython-input-13-d3fca75e9728>\u001b[0m in \u001b[0;36m<module>\u001b[1;34m\u001b[0m\n\u001b[1;32m----> 1\u001b[1;33m \u001b[0mlen\u001b[0m\u001b[1;33m(\u001b[0m\u001b[0mset\u001b[0m\u001b[1;33m(\u001b[0m\u001b[0muniqueHashs\u001b[0m\u001b[1;33m)\u001b[0m\u001b[1;33m)\u001b[0m\u001b[1;33m\u001b[0m\u001b[1;33m\u001b[0m\u001b[0m\n\u001b[0m",
      "\u001b[1;31mNameError\u001b[0m: name 'uniqueHashs' is not defined"
     ]
    }
   ],
   "source": [
    "len(set(uniqueHashs))"
   ]
  },
  {
   "cell_type": "code",
   "execution_count": 18,
   "metadata": {},
   "outputs": [],
   "source": [
    "# removing duplicate data\n",
    "addressDf.drop_duplicates(subset=\"id\",keep='first',inplace=True)"
   ]
  },
  {
   "cell_type": "raw",
   "metadata": {},
   "source": [
    "len(set(addressDf['id'].tolist()))"
   ]
  },
  {
   "cell_type": "code",
   "execution_count": 19,
   "metadata": {},
   "outputs": [
    {
     "data": {
      "text/html": [
       "<div>\n",
       "<style scoped>\n",
       "    .dataframe tbody tr th:only-of-type {\n",
       "        vertical-align: middle;\n",
       "    }\n",
       "\n",
       "    .dataframe tbody tr th {\n",
       "        vertical-align: top;\n",
       "    }\n",
       "\n",
       "    .dataframe thead th {\n",
       "        text-align: right;\n",
       "    }\n",
       "</style>\n",
       "<table border=\"1\" class=\"dataframe\">\n",
       "  <thead>\n",
       "    <tr style=\"text-align: right;\">\n",
       "      <th></th>\n",
       "      <th>hash</th>\n",
       "      <th>number</th>\n",
       "      <th>street</th>\n",
       "      <th>unit</th>\n",
       "      <th>city</th>\n",
       "      <th>district</th>\n",
       "      <th>region</th>\n",
       "      <th>postcode</th>\n",
       "      <th>id</th>\n",
       "    </tr>\n",
       "  </thead>\n",
       "  <tbody>\n",
       "    <tr>\n",
       "      <th>0</th>\n",
       "      <td>5ed816d8cf1816d8</td>\n",
       "      <td>427</td>\n",
       "      <td>AUBURN ST</td>\n",
       "      <td></td>\n",
       "      <td>AUBURNDALE</td>\n",
       "      <td></td>\n",
       "      <td></td>\n",
       "      <td>02466</td>\n",
       "      <td>106766427B</td>\n",
       "    </tr>\n",
       "    <tr>\n",
       "      <th>1</th>\n",
       "      <td>1fe5fdf65aa2d9d6</td>\n",
       "      <td>137</td>\n",
       "      <td>HAGEN RD</td>\n",
       "      <td></td>\n",
       "      <td>NEWTON CENTRE</td>\n",
       "      <td></td>\n",
       "      <td></td>\n",
       "      <td>02459</td>\n",
       "      <td>157159137</td>\n",
       "    </tr>\n",
       "    <tr>\n",
       "      <th>2</th>\n",
       "      <td>c6b924c8eeb2f784</td>\n",
       "      <td>82</td>\n",
       "      <td>CHURCH ST</td>\n",
       "      <td></td>\n",
       "      <td>NEWTON</td>\n",
       "      <td></td>\n",
       "      <td></td>\n",
       "      <td>02458</td>\n",
       "      <td>12695882</td>\n",
       "    </tr>\n",
       "    <tr>\n",
       "      <th>3</th>\n",
       "      <td>57c14fcbae7117d0</td>\n",
       "      <td>639</td>\n",
       "      <td>DEDHAM ST</td>\n",
       "      <td></td>\n",
       "      <td>NEWTON CENTRE</td>\n",
       "      <td></td>\n",
       "      <td></td>\n",
       "      <td>02459</td>\n",
       "      <td>137359639</td>\n",
       "    </tr>\n",
       "    <tr>\n",
       "      <th>4</th>\n",
       "      <td>5fe7bbbab5119d38</td>\n",
       "      <td>119</td>\n",
       "      <td>HIGHLAND AVE</td>\n",
       "      <td></td>\n",
       "      <td>NEWTONVILLE</td>\n",
       "      <td></td>\n",
       "      <td></td>\n",
       "      <td>02460</td>\n",
       "      <td>162560119</td>\n",
       "    </tr>\n",
       "  </tbody>\n",
       "</table>\n",
       "</div>"
      ],
      "text/plain": [
       "               hash number        street unit           city district region  \\\n",
       "0  5ed816d8cf1816d8    427     AUBURN ST          AUBURNDALE                   \n",
       "1  1fe5fdf65aa2d9d6    137      HAGEN RD       NEWTON CENTRE                   \n",
       "2  c6b924c8eeb2f784     82     CHURCH ST              NEWTON                   \n",
       "3  57c14fcbae7117d0    639     DEDHAM ST       NEWTON CENTRE                   \n",
       "4  5fe7bbbab5119d38    119  HIGHLAND AVE         NEWTONVILLE                   \n",
       "\n",
       "  postcode          id  \n",
       "0    02466  106766427B  \n",
       "1    02459   157159137  \n",
       "2    02458    12695882  \n",
       "3    02459   137359639  \n",
       "4    02460   162560119  "
      ]
     },
     "execution_count": 19,
     "metadata": {},
     "output_type": "execute_result"
    }
   ],
   "source": [
    "addressDf.head()"
   ]
  },
  {
   "cell_type": "code",
   "execution_count": 53,
   "metadata": {},
   "outputs": [],
   "source": [
    "def generateAddress(rowId,addressDf):\n",
    "#     print(rowId)\n",
    "    row=addressDf[addressDf['id']==rowId]\n",
    "#     print(row)\n",
    "    return \"#\"+str(row['number'].values[0])+\",\"+row['street'].values[0]+\",\"+row['city'].values[0]+\",\"+str(row['postcode'].values[0])\n"
   ]
  },
  {
   "cell_type": "code",
   "execution_count": 54,
   "metadata": {},
   "outputs": [
    {
     "data": {
      "text/plain": [
       "'#427,AUBURN ST,AUBURNDALE,02466'"
      ]
     },
     "execution_count": 54,
     "metadata": {},
     "output_type": "execute_result"
    }
   ],
   "source": [
    "generateAddress(\"106766427B\",addressDf)"
   ]
  },
  {
   "cell_type": "code",
   "execution_count": 56,
   "metadata": {},
   "outputs": [],
   "source": [
    "import copy\n",
    "def imputeAtRandom(address,data):\n",
    "    #print(data)\n",
    "    randomAddress=address.sample(1)\n",
    "    data[\"imputedLocationId\"]=randomAddress['id'].values[0]\n",
    "    #print(randomAddress['id'].values[0])\n",
    "    #print(data)\n",
    "    data[\"imputedLocation\"]=generateAddress(randomAddress['id'].values[0],address)\n",
    "    return data\n",
    "\n",
    "        \n",
    "\n",
    "randomImputedData=copy.deepcopy(processedData)\n",
    "for i in range(len(randomImputedData)):\n",
    "    randomImputedData[i]=imputeAtRandom(addressDf,randomImputedData[i])"
   ]
  },
  {
   "cell_type": "code",
   "execution_count": 59,
   "metadata": {},
   "outputs": [
    {
     "data": {
      "text/plain": [
       "[{'text': 'And told TD Bank that I need them to inform entity_19 that it is paid off so I can open an account.',\n",
       "  'entity': 'entity_19',\n",
       "  'types': '/location/address',\n",
       "  'imputedLocationId': '100858174U2',\n",
       "  'imputedLocation': '#174,ADAMS ST,NEWTON,02458'},\n",
       " {'text': 'I visited the branch of entity_23 since they have taken over all branches from Popular, they refused to honor the bonus.',\n",
       "  'entity': 'entity_23',\n",
       "  'types': '/location/address',\n",
       "  'imputedLocationId': '194058218',\n",
       "  'imputedLocation': '#218,NEWTONVILLE AVE,NEWTON,02458'},\n",
       " {'text': 'The problem is with EXPERIANTo know my score I paid {$1.00}, that is how they get my debit card information and they have been charging from entity_27 to present the monthly amount of {$19.00}. Could not make it stop.',\n",
       "  'entity': 'entity_27',\n",
       "  'types': '/location/address',\n",
       "  'imputedLocationId': '2350622276',\n",
       "  'imputedLocation': '#2276,WASHINGTON ST,NEWTON LOWER FALLS,02462'}]"
      ]
     },
     "execution_count": 59,
     "metadata": {},
     "output_type": "execute_result"
    }
   ],
   "source": [
    "randomImputedData[:3]"
   ]
  },
  {
   "cell_type": "code",
   "execution_count": 63,
   "metadata": {},
   "outputs": [
    {
     "name": "stdout",
     "output_type": "stream",
     "text": [
      "1.0240641711229947\n",
      "0.15324844792414008\n"
     ]
    },
    {
     "data": {
      "image/png": "[encoded data removed]",
      "text/plain": [
       "<Figure size 432x288 with 1 Axes>"
      ]
     },
     "metadata": {
      "needs_background": "light"
     },
     "output_type": "display_data"
    }
   ],
   "source": [
    "import warnings\n",
    "warnings.filterwarnings(\"ignore\")\n",
    "import matplotlib.pyplot as plt\n",
    "import seaborn as sns\n",
    "locationIds=[ele['imputedLocationId'] for ele in randomImputedData]\n",
    "uniqueIds=list(set(locationIds))\n",
    "frequency=[locationIds.count(ele) for ele in uniqueIds]\n",
    "print(np.mean(frequency))\n",
    "print(np.std(frequency))\n",
    "#print(frequency)\n",
    "sns.distplot(frequency, hist=True, kde=True, \n",
    "             bins=int(180/5), color = 'darkblue', \n",
    "             hist_kws={'edgecolor':'black'},\n",
    "             kde_kws={'linewidth': 4})\n",
    "plt.show()"
   ]
  },
  {
   "cell_type": "code",
   "execution_count": null,
   "metadata": {},
   "outputs": [],
   "source": []
  }
 ],
 "metadata": {
  "kernelspec": {
   "display_name": "bias_detection",
   "language": "python",
   "name": "bias_detection"
  },
  "language_info": {
   "codemirror_mode": {
    "name": "ipython",
    "version": 3
   },
   "file_extension": ".py",
   "mimetype": "text/x-python",
   "name": "python",
   "nbconvert_exporter": "python",
   "pygments_lexer": "ipython3",
   "version": "3.8.5"
  }
 },
 "nbformat": 4,
 "nbformat_minor": 4
}
